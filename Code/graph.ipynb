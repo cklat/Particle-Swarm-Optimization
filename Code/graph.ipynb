{
 "cells": [
  {
   "cell_type": "code",
   "execution_count": 1,
   "metadata": {},
   "outputs": [],
   "source": [
    "class Graph:\n",
    "    \n",
    "    def __init__(self, vertices, edges):\n",
    "        \n",
    "        self.vertices = vertices\n",
    "        self.edges = edges\n",
    "        self.num_vertices = len(vertices)\n",
    "    \n",
    "    def getCostOfRoute(self, route):\n",
    "        \n",
    "        cost = 0.0\n",
    "        \n",
    "        #costs from starting point to penultimate vertice\n",
    "        for e in range(len(route)-1):\n",
    "            cost += self.edges[str(route[e]), str(route[e+1])]\n",
    "        \n",
    "        #costs from penultimate vertice to the last vertice (i.e. the starting point) \n",
    "        cost += self.edges[str(route[-1]), str(route[0])]\n",
    "            \n",
    "        return cost\n",
    "    \n",
    "    def getRandomRoutes(self, num_routes):\n",
    "        \n",
    "        import numpy as np\n",
    "        \n",
    "        routes = []\n",
    "        \n",
    "        for i in range(num_routes):\n",
    "            routes.append(np.random.choice(self.num_vertices, self.num_vertices, replace=False))\n",
    "            routes[i][-1] = routes[i][0]\n",
    "            \n",
    "        return routes\n",
    "            "
   ]
  },
  {
   "cell_type": "code",
   "execution_count": null,
   "metadata": {},
   "outputs": [],
   "source": []
  }
 ],
 "metadata": {
  "kernelspec": {
   "display_name": "Python 3",
   "language": "python",
   "name": "python3"
  },
  "language_info": {
   "codemirror_mode": {
    "name": "ipython",
    "version": 3
   },
   "file_extension": ".py",
   "mimetype": "text/x-python",
   "name": "python",
   "nbconvert_exporter": "python",
   "pygments_lexer": "ipython3",
   "version": "3.6.5"
  }
 },
 "nbformat": 4,
 "nbformat_minor": 2
}
